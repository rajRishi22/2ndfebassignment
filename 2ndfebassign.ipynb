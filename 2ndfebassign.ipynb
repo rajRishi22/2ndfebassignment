{
 "cells": [
  {
   "cell_type": "code",
   "execution_count": 6,
   "id": "81185bf5-a7ac-418e-b94d-de2ff0eb194a",
   "metadata": {},
   "outputs": [
    {
     "name": "stdout",
     "output_type": "stream",
     "text": [
      "0\n",
      "1\n",
      "2\n",
      "3\n",
      "4\n",
      "5\n",
      "6\n",
      "7\n",
      "8\n",
      "10\n"
     ]
    }
   ],
   "source": [
    "# 1.Ans:  for loop is used when we know the range of iteration .\n",
    "# while loop is used to iterate a block of when until a condition is statisfied.\n",
    "# Examples of it are given below\n",
    "for i in range(9):\n",
    "    print(i)\n",
    "    \n",
    "#code for while loop\n",
    "sum=0;\n",
    "n=10;\n",
    "while n>sum :\n",
    "    sum=sum+n\n",
    "    n=n-1\n",
    "print(sum)"
   ]
  },
  {
   "cell_type": "code",
   "execution_count": 8,
   "id": "a1c86b4d-a7c0-44b2-bdf6-0937d1c2163d",
   "metadata": {},
   "outputs": [
    {
     "name": "stdout",
     "output_type": "stream",
     "text": [
      "Sum of 10 natural numbers is 55\n",
      "Product of 10 natural numbers is 3628800\n"
     ]
    }
   ],
   "source": [
    "# 2.Ans \n",
    "n=10;\n",
    "sum=0;\n",
    "product=1;\n",
    "for i in range(1,11):\n",
    "    sum=sum+i;\n",
    "    product=product*i;\n",
    "print(\"Sum of 10 natural numbers is\",sum)\n",
    "print(\"Product of 10 natural numbers is\",product)\n",
    "\n",
    "    "
   ]
  },
  {
   "cell_type": "code",
   "execution_count": 31,
   "id": "5116011d-c429-4823-8d65-f194d5317fa0",
   "metadata": {},
   "outputs": [
    {
     "name": "stdin",
     "output_type": "stream",
     "text": [
      "Enter the number of units consumption 310\n"
     ]
    },
    {
     "name": "stdout",
     "output_type": "stream",
     "text": [
      "2250.0\n"
     ]
    }
   ],
   "source": [
    "# 3.Ans\n",
    "units=int(input(\"Enter the number of units consumption\"))\n",
    "bill=0;\n",
    "# if units<=100:\n",
    "#     bill=units*4.5;\n",
    "# elif 100<units<=200:\n",
    "#     bill=(units-100)*6+bill;\n",
    "# elif 200<units<=300:\n",
    "#     bill=(units-200)*10+bill;\n",
    "# elif 300<units:\n",
    "#     bill=(units-300)*20+bill;\n",
    "if units>300:\n",
    "    bill=(units-300)*20+100*10+100*6+4.5*100\n",
    "elif 300>=units>200:\n",
    "    bill=(units-200)*10+100*6+4.5*100\n",
    "elif 200>=units>100:\n",
    "    bill=(units-100)*6+100*4.5\n",
    "elif 100>=units:\n",
    "    bill=umits*4.5\n",
    "\n",
    "    \n",
    "print(bill)"
   ]
  },
  {
   "cell_type": "code",
   "execution_count": 23,
   "id": "12e9ee83-ddb1-4acf-a924-8e25de4b695c",
   "metadata": {},
   "outputs": [
    {
     "data": {
      "text/plain": [
       "[8,\n",
       " 64,\n",
       " 125,\n",
       " 216,\n",
       " 512,\n",
       " 1000,\n",
       " 1728,\n",
       " 2744,\n",
       " 3375,\n",
       " 4096,\n",
       " 5832,\n",
       " 8000,\n",
       " 10648,\n",
       " 13824,\n",
       " 15625,\n",
       " 17576,\n",
       " 21952,\n",
       " 27000,\n",
       " 32768,\n",
       " 39304,\n",
       " 42875,\n",
       " 46656,\n",
       " 54872,\n",
       " 64000,\n",
       " 74088,\n",
       " 85184,\n",
       " 91125,\n",
       " 97336,\n",
       " 110592,\n",
       " 125000,\n",
       " 140608,\n",
       " 157464,\n",
       " 166375,\n",
       " 175616,\n",
       " 195112,\n",
       " 216000,\n",
       " 238328,\n",
       " 262144,\n",
       " 274625,\n",
       " 287496,\n",
       " 314432,\n",
       " 343000,\n",
       " 373248,\n",
       " 405224,\n",
       " 421875,\n",
       " 438976,\n",
       " 474552,\n",
       " 512000,\n",
       " 551368,\n",
       " 592704,\n",
       " 614125,\n",
       " 636056,\n",
       " 681472,\n",
       " 729000,\n",
       " 778688,\n",
       " 830584,\n",
       " 857375,\n",
       " 884736,\n",
       " 941192,\n",
       " 1000000,\n",
       " 8,\n",
       " 64,\n",
       " 125,\n",
       " 216,\n",
       " 512,\n",
       " 1000,\n",
       " 1728,\n",
       " 2744,\n",
       " 3375,\n",
       " 4096,\n",
       " 5832,\n",
       " 8000,\n",
       " 10648,\n",
       " 13824,\n",
       " 15625,\n",
       " 17576,\n",
       " 21952,\n",
       " 27000,\n",
       " 32768,\n",
       " 39304,\n",
       " 42875,\n",
       " 46656,\n",
       " 54872,\n",
       " 64000,\n",
       " 74088,\n",
       " 85184,\n",
       " 91125,\n",
       " 97336,\n",
       " 110592,\n",
       " 125000,\n",
       " 140608,\n",
       " 157464,\n",
       " 166375,\n",
       " 175616,\n",
       " 195112,\n",
       " 216000,\n",
       " 238328,\n",
       " 262144,\n",
       " 274625,\n",
       " 287496,\n",
       " 314432,\n",
       " 343000,\n",
       " 373248,\n",
       " 405224,\n",
       " 421875,\n",
       " 438976,\n",
       " 474552,\n",
       " 512000,\n",
       " 551368,\n",
       " 592704,\n",
       " 614125,\n",
       " 636056,\n",
       " 681472,\n",
       " 729000,\n",
       " 778688,\n",
       " 830584,\n",
       " 857375,\n",
       " 884736,\n",
       " 941192,\n",
       " 1000000]"
      ]
     },
     "execution_count": 23,
     "metadata": {},
     "output_type": "execute_result"
    }
   ],
   "source": [
    "# 4.Ans\n",
    "l=[]\n",
    "for i in range(1,101):\n",
    "    l.append(i)\n",
    "l1=[]\n",
    "for i in l:\n",
    "    if (((i**3)%4==0 ) or ((i**3)%5==0)):\n",
    "        l1.append(i**3)\n",
    "l1\n",
    "\n",
    "\n",
    "#While loop implementation\n",
    "l2=[]\n",
    "i=0\n",
    "while i<100:\n",
    "    if (((l[i]**3)%4==0 ) or ((l[i]**3)%5==0)):\n",
    "        l1.append(l[i]**3)\n",
    "    i=i+1\n",
    "l1"
   ]
  },
  {
   "cell_type": "code",
   "execution_count": 30,
   "id": "618d513c-d911-4570-9718-7bbc3fdb723f",
   "metadata": {},
   "outputs": [
    {
     "data": {
      "text/plain": [
       "12"
      ]
     },
     "execution_count": 30,
     "metadata": {},
     "output_type": "execute_result"
    }
   ],
   "source": [
    "#5.Ans\n",
    "s=\"I want to become a data scientist\";\n",
    "count=0\n",
    "for i in s:\n",
    "    if i=='a' or i=='e' or i=='i' or i=='u' or i=='o'or i=='A' or i=='E' or i=='I' or i=='U' or i=='O':\n",
    "        count=count+1\n",
    "count"
   ]
  },
  {
   "cell_type": "code",
   "execution_count": null,
   "id": "28994d46-5e9e-4585-81f3-716ced946637",
   "metadata": {},
   "outputs": [],
   "source": []
  }
 ],
 "metadata": {
  "kernelspec": {
   "display_name": "Python 3 (ipykernel)",
   "language": "python",
   "name": "python3"
  },
  "language_info": {
   "codemirror_mode": {
    "name": "ipython",
    "version": 3
   },
   "file_extension": ".py",
   "mimetype": "text/x-python",
   "name": "python",
   "nbconvert_exporter": "python",
   "pygments_lexer": "ipython3",
   "version": "3.10.8"
  }
 },
 "nbformat": 4,
 "nbformat_minor": 5
}
